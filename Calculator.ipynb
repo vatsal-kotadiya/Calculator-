{
 "cells": [
  {
   "cell_type": "code",
   "execution_count": 1,
   "id": "c4226416-2559-4258-ad25-50fbeb326f12",
   "metadata": {},
   "outputs": [
    {
     "name": "stdout",
     "output_type": "stream",
     "text": [
      "===== Calculator =====\n",
      "\n",
      "Choose operation:\n",
      "1. Add\n",
      "2. Subtract\n",
      "3. Multiply\n",
      "4. Divide\n",
      "5. Power\n",
      "6. Modulo\n",
      "0. Exit\n"
     ]
    },
    {
     "name": "stdin",
     "output_type": "stream",
     "text": [
      "\n",
      "Enter choice:  3\n",
      "Enter first number:  10\n",
      "Enter second number:  20\n"
     ]
    },
    {
     "name": "stdout",
     "output_type": "stream",
     "text": [
      "Multiply: 10.0 and 20.0 = 200.0\n",
      "\n",
      "Choose operation:\n",
      "1. Add\n",
      "2. Subtract\n",
      "3. Multiply\n",
      "4. Divide\n",
      "5. Power\n",
      "6. Modulo\n",
      "0. Exit\n"
     ]
    },
    {
     "name": "stdin",
     "output_type": "stream",
     "text": [
      "\n",
      "Enter choice:  0\n"
     ]
    },
    {
     "name": "stdout",
     "output_type": "stream",
     "text": [
      "\n",
      "Goodbye!\n"
     ]
    }
   ],
   "source": [
    "import operator\n",
    "\n",
    "OPS = {\n",
    "    \"1\": (\"Add\", operator.add),\n",
    "    \"2\": (\"Subtract\", operator.sub),\n",
    "    \"3\": (\"Multiply\", operator.mul),\n",
    "    \"4\": (\"Divide\", operator.truediv),\n",
    "    \"5\": (\"Power\", operator.pow),\n",
    "    \"6\": (\"Modulo\", operator.mod),\n",
    "}\n",
    "\n",
    "def get_number(prompt):\n",
    "    while True:\n",
    "        try:\n",
    "            return float(input(prompt))\n",
    "        except ValueError:\n",
    "            print(\"Not a valid number. Try again.\")\n",
    "\n",
    "def get_choice():\n",
    "    print(\"\\nChoose operation:\")\n",
    "    for k, (name, _) in OPS.items():\n",
    "        print(f\"{k}. {name}\")\n",
    "    print(\"0. Exit\")\n",
    "    while True:\n",
    "        c = input(\"\\nEnter choice: \").strip()\n",
    "        if c == \"0\" or c in OPS:\n",
    "            return c\n",
    "        print(\"Invalid choice. Pick a number from the menu.\")\n",
    "\n",
    "def main():\n",
    "    print(\"===== Calculator =====\")\n",
    "    while True:\n",
    "        choice = get_choice()\n",
    "        if choice == \"0\":\n",
    "            print(\"\\nGoodbye!\")\n",
    "            break\n",
    "        a, b = get_number(\"Enter first number: \"), get_number(\"Enter second number: \")\n",
    "        name, func = OPS[choice]\n",
    "        try:\n",
    "            result = func(a, b)\n",
    "        except ZeroDivisionError:\n",
    "            print(\"Error: division by zero is not allowed.\")\n",
    "            continue\n",
    "        print(f\"{name}: {a} and {b} = {result}\")\n",
    "\n",
    "if __name__ == \"__main__\":\n",
    "    main()\n"
   ]
  },
  {
   "cell_type": "code",
   "execution_count": null,
   "id": "45584d5b-add4-490b-92c3-96ccacdab88e",
   "metadata": {},
   "outputs": [],
   "source": []
  }
 ],
 "metadata": {
  "kernelspec": {
   "display_name": "Python 3 (ipykernel)",
   "language": "python",
   "name": "python3"
  },
  "language_info": {
   "codemirror_mode": {
    "name": "ipython",
    "version": 3
   },
   "file_extension": ".py",
   "mimetype": "text/x-python",
   "name": "python",
   "nbconvert_exporter": "python",
   "pygments_lexer": "ipython3",
   "version": "3.13.5"
  }
 },
 "nbformat": 4,
 "nbformat_minor": 5
}
